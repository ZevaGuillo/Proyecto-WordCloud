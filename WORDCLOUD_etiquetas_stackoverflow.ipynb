{
  "nbformat": 4,
  "nbformat_minor": 0,
  "metadata": {
    "colab": {
      "name": "WORDCLOUD-etiquetas-stackoverflow.ipynb",
      "provenance": [],
      "collapsed_sections": [],
      "authorship_tag": "ABX9TyNs3PmkROPzYbv4/YkyQ2oI",
      "include_colab_link": true
    },
    "kernelspec": {
      "name": "python3",
      "display_name": "Python 3"
    }
  },
  "cells": [
    {
      "cell_type": "markdown",
      "metadata": {
        "id": "view-in-github",
        "colab_type": "text"
      },
      "source": [
        "<a href=\"https://colab.research.google.com/github/guillerZeva/Proyecto/blob/main/WORDCLOUD_etiquetas_stackoverflow.ipynb\" target=\"_parent\"><img src=\"https://colab.research.google.com/assets/colab-badge.svg\" alt=\"Open In Colab\"/></a>"
      ]
    },
    {
      "cell_type": "code",
      "metadata": {
        "id": "UkEQsb4_aGyo"
      },
      "source": [
        "from bs4 import BeautifulSoup as bs\n",
        "import requests\n",
        "from PIL import Image\n",
        "from wordcloud import WordCloud, STOPWORDS, ImageColorGenerator\n",
        "import matplotlib\n",
        "import matplotlib.pyplot as plt\n",
        "\n",
        "def scraping():\n",
        "  #Validar usuario existente \n",
        "  while True:\n",
        "    id_user = input(\"Ingrese el ID: \")\n",
        "    url = \"https://es.stackoverflow.com/users\" + id_user + \"?tab=tags\"\n",
        "    res = requests.get(url)\n",
        "    soup = bs(res.content)\n",
        "    valida = soup.find('div', class_= 'grid grid__center w100 h100')\n",
        "    if valida != None:\n",
        "      print(\"Ese usuario no existe\")\n",
        "    else:\n",
        "      break;\n",
        "  etiquetas = soup.find_all('a', class_= 'post-tag')\n",
        "  replicas = soup.find_all('span', class_= 'item-multiplier-count')\n",
        "\n",
        "  return etiquetas,replicas\n",
        "\n",
        "\n",
        "#crea un diccionario con los puntos de la etiqueta y los valores \n",
        "def frecuenciaEtiquetas(etiquetas, replicas):\n",
        "  frecuenciaMap = {}\n",
        "\n",
        "  for i in zip(etiquetas,replicas):\n",
        "    frecuenciaMap[i[0].get_text()] =  float(i[1].get_text())\n",
        "\n",
        "  return frecuenciaMap   \n",
        "\n",
        "\n",
        "# Funcion de worldcloud\n",
        "def createWordCloud(text):\n",
        "  wc = WordCloud(\n",
        "      width = 3000, \n",
        "      height = 2000, \n",
        "      max_font_size=2000, \n",
        "      scale=3, \n",
        "      background_color=\"#333333\",\n",
        "      colormap=\"spring\",\n",
        "      collocations=False,)\n",
        "  \n",
        "  wc.generate_from_frequencies(text)\n",
        " \n",
        " # Mostrar la imagen generada:\n",
        "  plt.imshow(wc, interpolation=\"bilinear\")\n",
        "  plt.axis(\"off\")\n",
        "  plt.show()\n",
        "\n",
        "\n",
        "freEtiquetas = scraping()\n",
        "\n",
        "frecuenciaMap = frecuenciaEtiquetas(freEtiquetas[0], freEtiquetas[1])\n",
        "\n",
        "createWordCloud(frecuenciaMap)\n",
        "\n",
        "\n"
      ],
      "execution_count": null,
      "outputs": []
    }
  ]
}